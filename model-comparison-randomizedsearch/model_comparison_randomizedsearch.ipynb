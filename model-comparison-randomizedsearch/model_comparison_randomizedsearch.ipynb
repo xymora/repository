{
 "cells": [
  {
   "cell_type": "markdown",
   "id": "fd647644",
   "metadata": {},
   "source": [
    "# 📊 Model Comparison with RandomizedSearchCV"
   ]
  },
  {
   "cell_type": "code",
   "execution_count": null,
   "id": "aec158ee",
   "metadata": {},
   "outputs": [],
   "source": [
    "\n",
    "import pandas as pd\n",
    "import numpy as np\n",
    "from sklearn.model_selection import train_test_split, RandomizedSearchCV\n",
    "from sklearn.linear_model import LogisticRegression\n",
    "from sklearn.ensemble import RandomForestClassifier\n",
    "from xgboost import XGBClassifier\n",
    "from sklearn.metrics import classification_report, confusion_matrix\n",
    "import matplotlib.pyplot as plt\n",
    "import seaborn as sns\n",
    "import pickle\n",
    "\n",
    "# Cargar datos\n",
    "df = pd.read_csv('../data/dataset.csv')\n",
    "X = df.drop('target', axis=1)\n",
    "y = df['target']\n",
    "X_train, X_test, y_train, y_test = train_test_split(X, y, test_size=0.2, random_state=42)\n"
   ]
  },
  {
   "cell_type": "code",
   "execution_count": null,
   "id": "4e6de5c6",
   "metadata": {},
   "outputs": [],
   "source": [
    "\n",
    "# Definir modelos y parámetros\n",
    "models = {\n",
    "    'LogisticRegression': (LogisticRegression(max_iter=1000), {\n",
    "        'C': np.logspace(-4, 4, 20),\n",
    "        'penalty': ['l1', 'l2'],\n",
    "        'solver': ['liblinear']\n",
    "    }),\n",
    "    'RandomForest': (RandomForestClassifier(), {\n",
    "        'n_estimators': [50, 100, 200],\n",
    "        'max_depth': [None, 10, 20, 30],\n",
    "        'min_samples_split': [2, 5, 10]\n",
    "    }),\n",
    "    'XGBoost': (XGBClassifier(eval_metric='logloss'), {\n",
    "        'n_estimators': [50, 100, 200],\n",
    "        'learning_rate': [0.01, 0.1, 0.2],\n",
    "        'max_depth': [3, 6, 10]\n",
    "    })\n",
    "}\n"
   ]
  },
  {
   "cell_type": "code",
   "execution_count": null,
   "id": "c650678c",
   "metadata": {},
   "outputs": [],
   "source": [
    "\n",
    "best_models = {}\n",
    "for name, (model, params) in models.items():\n",
    "    print(f\"Training {name}...\")\n",
    "    search = RandomizedSearchCV(model, params, cv=5, n_iter=10, scoring='accuracy', random_state=42)\n",
    "    search.fit(X_train, y_train)\n",
    "    best_models[name] = search.best_estimator_\n",
    "    print(f\"Best params for {name}: {search.best_params_}\")\n"
   ]
  },
  {
   "cell_type": "code",
   "execution_count": null,
   "id": "c456014c",
   "metadata": {},
   "outputs": [],
   "source": [
    "\n",
    "# Evaluar los modelos\n",
    "for name, model in best_models.items():\n",
    "    y_pred = model.predict(X_test)\n",
    "    print(f\"\\n{name} Classification Report:\")\n",
    "    print(classification_report(y_test, y_pred))\n"
   ]
  },
  {
   "cell_type": "code",
   "execution_count": null,
   "id": "1a32526f",
   "metadata": {},
   "outputs": [],
   "source": [
    "\n",
    "# Confusion Matrix para el mejor modelo (por ejemplo XGBoost)\n",
    "best = best_models['XGBoost']\n",
    "y_pred_best = best.predict(X_test)\n",
    "cm = confusion_matrix(y_test, y_pred_best)\n",
    "sns.heatmap(cm, annot=True, fmt=\"d\", cmap=\"Blues\")\n",
    "plt.title(\"Confusion Matrix - XGBoost\")\n",
    "plt.savefig('../outputs/confusion_matrix.png')\n",
    "plt.show()\n"
   ]
  },
  {
   "cell_type": "code",
   "execution_count": null,
   "id": "0063f83f",
   "metadata": {},
   "outputs": [],
   "source": [
    "\n",
    "# Guardar modelo\n",
    "with open('../outputs/best_model.pkl', 'wb') as f:\n",
    "    pickle.dump(best, f)\n"
   ]
  }
 ],
 "metadata": {},
 "nbformat": 4,
 "nbformat_minor": 5
}
